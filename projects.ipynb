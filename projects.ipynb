{
  "nbformat": 4,
  "nbformat_minor": 0,
  "metadata": {
    "colab": {
      "provenance": [],
      "authorship_tag": "ABX9TyOzvYpfNdIN4vWJC91Zw5fQ",
      "include_colab_link": true
    },
    "kernelspec": {
      "name": "python3",
      "display_name": "Python 3"
    },
    "language_info": {
      "name": "python"
    }
  },
  "cells": [
    {
      "cell_type": "markdown",
      "metadata": {
        "id": "view-in-github",
        "colab_type": "text"
      },
      "source": [
        "<a href=\"https://colab.research.google.com/github/SyedUmarWajahat/Advanced-Python-Project/blob/main/projects.ipynb\" target=\"_parent\"><img src=\"https://colab.research.google.com/assets/colab-badge.svg\" alt=\"Open In Colab\"/></a>"
      ]
    },
    {
      "cell_type": "markdown",
      "source": [
        "## 1. Earth-to-Planet Weight Conversion"
      ],
      "metadata": {
        "id": "tGRnF_UuvZbE"
      }
    },
    {
      "cell_type": "code",
      "source": [
        "# Constants for the gravity multipliers of different planets\n",
        "PLANET_GRAVITIES = {\n",
        "    'Earth': 1.0,          # Earth's gravity (100%)\n",
        "    'Mars': 0.378,         # Mars gravity (37.8%)\n",
        "    'Mercury': 0.377,      # Mercury gravity (37.7%)\n",
        "    'Venus': 0.904,        # Venus gravity (90.4%)\n",
        "    'Jupiter': 2.528,      # Jupiter gravity (252.8%)\n",
        "    'Saturn': 1.065,       # Saturn gravity (106.5%)\n",
        "    'Uranus': 0.886,       # Uranus gravity (88.6%)\n",
        "    'Neptune': 1.14        # Neptune gravity (114%)\n",
        "}\n",
        "\n",
        "# Step 1: Prompt the user for their weight on Earth\n",
        "while True:\n",
        "    try:\n",
        "        weight_on_earth = float(input(\"Enter your weight on Earth (in kg): \"))\n",
        "        break  # Exit the loop if input is valid\n",
        "    except ValueError:\n",
        "        print(\"Invalid input. Please enter a numerical value for your weight.\")\n",
        "\n",
        "# Step 2: Display a list of planets for the user to choose from\n",
        "print(\"\\nChoose a planet to calculate your weight on:\")\n",
        "for planet in PLANET_GRAVITIES:\n",
        "    print(f\"- {planet}\")\n",
        "\n",
        "# Step 3: Prompt the user to select a planet\n",
        "planet = input(\"\\nEnter the name of the planet: \").capitalize()\n",
        "\n",
        "# Step 4: Check if the user input is valid\n",
        "if planet in PLANET_GRAVITIES:\n",
        "    # Calculate the weight on the selected planet\n",
        "    weight_on_planet = weight_on_earth * PLANET_GRAVITIES[planet]\n",
        "\n",
        "    # Round the result to two decimal places\n",
        "    rounded_weight_on_planet = round(weight_on_planet, 2)\n",
        "\n",
        "    # Step 5: Display the result\n",
        "    print(f\"\\nYour weight on {planet} would be {rounded_weight_on_planet} kg.\")\n",
        "else:\n",
        "    # Handle invalid planet input\n",
        "    print(\"\\nInvalid planet name. Please choose from the list.\")"
      ],
      "metadata": {
        "colab": {
          "base_uri": "https://localhost:8080/"
        },
        "id": "WKt7WcszuU4a",
        "outputId": "e9115263-a771-4840-99e2-b83a9c98b4cd"
      },
      "execution_count": null,
      "outputs": [
        {
          "output_type": "stream",
          "name": "stdout",
          "text": [
            "Enter your weight on Earth (in kg): 55\n",
            "\n",
            "Choose a planet to calculate your weight on:\n",
            "- Earth\n",
            "- Mars\n",
            "- Mercury\n",
            "- Venus\n",
            "- Jupiter\n",
            "- Saturn\n",
            "- Uranus\n",
            "- Neptune\n",
            "\n",
            "Enter the name of the planet: saturn\n",
            "\n",
            "Your weight on Saturn would be 58.57 kg.\n"
          ]
        }
      ]
    },
    {
      "cell_type": "markdown",
      "source": [
        "## 2. High Low Game"
      ],
      "metadata": {
        "id": "0PQtPMgXDXyc"
      }
    },
    {
      "cell_type": "code",
      "source": [
        "import random\n",
        "\n",
        "# Define the number of rounds to play\n",
        "NUM_ROUNDS = 5\n",
        "\n",
        "# Function to start the High-Low game\n",
        "def high_low_game():\n",
        "    print(\"Welcome to the High-Low Game!\")\n",
        "    print(\"--------------------------------\")\n",
        "\n",
        "    # Initialize the player's score\n",
        "    score = 0\n",
        "\n",
        "    # Play multiple rounds\n",
        "    for round_num in range(1, NUM_ROUNDS + 1):\n",
        "        print(f\"\\nRound {round_num}\")\n",
        "\n",
        "        # Generate random numbers for the player and computer\n",
        "        your_number = random.randint(1, 100)\n",
        "        computers_number = random.randint(1, 100)\n",
        "\n",
        "        # Display the player's number\n",
        "        print(f\"Your number is {your_number}\")\n",
        "\n",
        "        # Get the player's guess (higher or lower)\n",
        "        guess = input(\"Do you think your number is higher or lower than the computer's?: \").lower()\n",
        "\n",
        "        # Ensure valid input\n",
        "        while guess not in ['higher', 'lower']:\n",
        "            print(\"Please enter either 'higher' or 'lower'.\")\n",
        "            guess = input(\"Do you think your number is higher or lower than the computer's?: \").lower()\n",
        "\n",
        "        # Determine if the guess is correct\n",
        "        if guess == 'higher' and your_number > computers_number:\n",
        "            print(f\"You were right! The computer's number was {computers_number}\")\n",
        "            score += 1\n",
        "        elif guess == 'lower' and your_number < computers_number:\n",
        "            print(f\"You were right! The computer's number was {computers_number}\")\n",
        "            score += 1\n",
        "        else:\n",
        "            print(f\"Aww, that's incorrect. The computer's number was {computers_number}\")\n",
        "\n",
        "        # Print the player's current score\n",
        "        print(f\"Your score is now {score}\")\n",
        "\n",
        "    # Game over message\n",
        "    print(\"\\nThanks for playing!\")\n",
        "\n",
        "    # Conditional ending messages based on the score\n",
        "    if score == NUM_ROUNDS:\n",
        "        print(\"Wow! You played perfectly!\")\n",
        "    elif score >= NUM_ROUNDS // 2:\n",
        "        print(\"Good job, you played really well!\")\n",
        "    else:\n",
        "        print(\"Better luck next time!\")\n",
        "\n",
        "# Start the game\n",
        "high_low_game()"
      ],
      "metadata": {
        "id": "e5eQ8k70w5R-",
        "colab": {
          "base_uri": "https://localhost:8080/"
        },
        "outputId": "d4750471-e706-4165-b22e-cbb3af828c60"
      },
      "execution_count": null,
      "outputs": [
        {
          "output_type": "stream",
          "name": "stdout",
          "text": [
            "Welcome to the High-Low Game!\n",
            "--------------------------------\n",
            "\n",
            "Round 1\n",
            "Your number is 31\n",
            "Do you think your number is higher or lower than the computer's?: lower\n",
            "You were right! The computer's number was 73\n",
            "Your score is now 1\n",
            "\n",
            "Round 2\n",
            "Your number is 12\n",
            "Do you think your number is higher or lower than the computer's?: lower\n",
            "You were right! The computer's number was 46\n",
            "Your score is now 2\n",
            "\n",
            "Round 3\n",
            "Your number is 98\n",
            "Do you think your number is higher or lower than the computer's?: lower\n",
            "Aww, that's incorrect. The computer's number was 94\n",
            "Your score is now 2\n",
            "\n",
            "Round 4\n",
            "Your number is 89\n",
            "Do you think your number is higher or lower than the computer's?: lower\n",
            "Aww, that's incorrect. The computer's number was 38\n",
            "Your score is now 2\n",
            "\n",
            "Round 5\n",
            "Your number is 74\n",
            "Do you think your number is higher or lower than the computer's?: higher\n",
            "Aww, that's incorrect. The computer's number was 87\n",
            "Your score is now 2\n",
            "\n",
            "Thanks for playing!\n",
            "Good job, you played really well!\n"
          ]
        }
      ]
    },
    {
      "cell_type": "markdown",
      "source": [
        "## 3. Index Game"
      ],
      "metadata": {
        "id": "-obCKjmOs7bX"
      }
    },
    {
      "cell_type": "code",
      "source": [
        "class IndexGame:\n",
        "    def __init__(self, initial_list):\n",
        "        self.list = initial_list\n",
        "\n",
        "    def access(self, index):\n",
        "        try:\n",
        "            return self.list[index]\n",
        "        except IndexError:\n",
        "            return \"Invalid index.\"\n",
        "\n",
        "    def modify(self, index, new_value):\n",
        "        try:\n",
        "            self.list[index] = new_value\n",
        "            return f\"Updated List: {self.list}\"\n",
        "        except IndexError:\n",
        "            return \"Invalid index.\"\n",
        "\n",
        "    def slice_list(self, start_index, end_index):\n",
        "        try:\n",
        "            sliced_list = self.list[start_index : end_index + 1]\n",
        "            return f\"Sliced List: {sliced_list}\"\n",
        "        except IndexError:\n",
        "            return \"Invalid indices.\"\n",
        "\n",
        "    def play(self):\n",
        "        print(\"Welcome to the Index Game!\")\n",
        "        print(\"You can perform three operations on the list:\")\n",
        "        print(\"1. Access an element at a specified index\")\n",
        "        print(\"2. Modify an element at a specified index\")\n",
        "        print(\"3. Slice the list between two indices\")\n",
        "        print(\"Type 'exit' to quit the game.\")\n",
        "\n",
        "        while True:\n",
        "            print(f\"\\nCurrent List: {self.list}\")\n",
        "            operation = input(\"Choose an operation (access, modify, slice): \").lower()\n",
        "\n",
        "            if operation == 'exit':\n",
        "                print(\"Goodbye!\")\n",
        "                break\n",
        "\n",
        "            if operation == 'access':\n",
        "                index = int(input(\"Enter the index to access: \"))\n",
        "                result = self.access(index)\n",
        "                print(f\"Result: {result}\")\n",
        "            elif operation == 'modify':\n",
        "                index = int(input(\"Enter the index to modify: \"))\n",
        "                new_value = input(\"Enter the new value: \")\n",
        "                result = self.modify(index, new_value)\n",
        "                print(result)\n",
        "            elif operation == 'slice':\n",
        "                start_index = int(input(\"Enter the start index: \"))\n",
        "                end_index = int(input(\"Enter the end index: \"))\n",
        "                result = self.slice_list(start_index, end_index)\n",
        "                print(result)\n",
        "            else:\n",
        "                print(\"Invalid operation. Please choose from access, modify, or slice.\")\n",
        "\n",
        "# Start the game\n",
        "game = IndexGame([10, 'apple', 3.14, 'banana', 42])\n",
        "game.play()"
      ],
      "metadata": {
        "colab": {
          "base_uri": "https://localhost:8080/"
        },
        "id": "mHP48d5_v3_T",
        "outputId": "b7d68219-1d0e-4fda-b5df-69b14823424f"
      },
      "execution_count": null,
      "outputs": [
        {
          "output_type": "stream",
          "name": "stdout",
          "text": [
            "Welcome to the Index Game!\n",
            "You can perform three operations on the list:\n",
            "1. Access an element at a specified index\n",
            "2. Modify an element at a specified index\n",
            "3. Slice the list between two indices\n",
            "Type 'exit' to quit the game.\n",
            "\n",
            "Current List: [10, 'apple', 3.14, 'banana', 42]\n",
            "Choose an operation (access, modify, slice): access\n",
            "Enter the index to access: 3\n",
            "Result: banana\n",
            "\n",
            "Current List: [10, 'apple', 3.14, 'banana', 42]\n",
            "Choose an operation (access, modify, slice): modify\n",
            "Enter the index to modify: 0\n",
            "Enter the new value: 20\n",
            "Updated List: ['20', 'apple', 3.14, 'banana', 42]\n",
            "\n",
            "Current List: ['20', 'apple', 3.14, 'banana', 42]\n",
            "Choose an operation (access, modify, slice): slice\n",
            "Enter the start index: 2\n",
            "Enter the end index: 4\n",
            "Sliced List: [3.14, 'banana', 42]\n",
            "\n",
            "Current List: ['20', 'apple', 3.14, 'banana', 42]\n",
            "Choose an operation (access, modify, slice): exit\n",
            "Goodbye!\n"
          ]
        }
      ]
    }
  ]
}